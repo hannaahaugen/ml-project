{
 "cells": [
  {
   "cell_type": "code",
   "execution_count": 1,
   "id": "52d2455d",
   "metadata": {},
   "outputs": [],
   "source": [
    "import pandas as pd\n",
    "#read excel file features\n",
    "df = pd.read_excel('../data/features.xlsx')\n",
    "   "
   ]
  },
  {
   "cell_type": "code",
   "execution_count": null,
   "id": "d56f1a27",
   "metadata": {},
   "outputs": [
    {
     "name": "stdout",
     "output_type": "stream",
     "text": [
      "Number of rows and columns: (113346, 21)\n",
      "Number of rows and columns after dropping duplicates: (84609, 21)\n"
     ]
    }
   ],
   "source": [
    "#list of columns to keep\n",
    "columns_to_keep = ['ENTITY_NAME','HEADQUARTER_CITY', 'HEADQUARTER_COUNTRY', 'IPO_DATE', 'IS_ACTIVE', 'TOTAL_EMPLOYEES', 'SIC_DESCRIPTION', 'SUBMARKET_DISPLAY_NAME', 'IS_EU_REGULATED_SUBMARKET', 'MARKET_CAP_USD', 'REVENUE_USD', 'MOST_RECENT_MARKET_CAP_USD','MOST_RECENT_REVENUE_USD', 'MOST_RECENT_AUDIT_FEES_USD', 'MOST_REC_AUDIT_RELATED_FEES_USD','MOST_RECENT_TAX_FEES_USD', 'MOST_RECENT_OTHER_FEES_USD', 'MOST_RECENT_NON_AUDIT_FEES_USD','MOST_RECENT_TOTAL_FEES_USD', 'NUMBER_OF_AUDITORS', 'HAS_GOING_CONCERN_MODIFICATION']\n",
    "\n",
    "#filter the dataframe to keep only the columns in the list\n",
    "df = df[columns_to_keep]\n",
    "print(\"Number of rows and columns:\", df.shape)\n",
    "df = df.drop_duplicates()\n",
    "print(\"Number of rows and columns after dropping duplicates:\", df.shape)"
   ]
  },
  {
   "cell_type": "code",
   "execution_count": null,
   "id": "2424a23d",
   "metadata": {},
   "outputs": [],
   "source": [
    "#save the filtered dataframe to a new parquet file \n",
    "#df.to_parquet('../data/features_with_zeros.parquet', index=False)\n",
    "#save the file to excel\n",
    "#df.to_excel('../data/features_with_zeros.xlsx', index=False)"
   ]
  },
  {
   "cell_type": "code",
   "execution_count": 21,
   "id": "338170f4",
   "metadata": {},
   "outputs": [
    {
     "name": "stdout",
     "output_type": "stream",
     "text": [
      "Number of rows and columns after removing text columns: (84609, 16)\n",
      "Columns after removing text columns: ['IPO_DATE', 'IS_ACTIVE', 'TOTAL_EMPLOYEES', 'IS_EU_REGULATED_SUBMARKET', 'MARKET_CAP_USD', 'REVENUE_USD', 'MOST_RECENT_MARKET_CAP_USD', 'MOST_RECENT_REVENUE_USD', 'MOST_RECENT_AUDIT_FEES_USD', 'MOST_REC_AUDIT_RELATED_FEES_USD', 'MOST_RECENT_TAX_FEES_USD', 'MOST_RECENT_OTHER_FEES_USD', 'MOST_RECENT_NON_AUDIT_FEES_USD', 'MOST_RECENT_TOTAL_FEES_USD', 'NUMBER_OF_AUDITORS', 'HAS_GOING_CONCERN_MODIFICATION']\n"
     ]
    }
   ],
   "source": [
    "#removing every text column\n",
    "df_numbers = df.select_dtypes(exclude=['object'])\n",
    "print(\"Number of rows and columns after removing text columns:\", df_numbers.shape)\n",
    "#print the columns\n",
    "print(\"Columns after removing text columns:\", df_numbers.columns.tolist())"
   ]
  },
  {
   "cell_type": "code",
   "execution_count": 24,
   "id": "140621ec",
   "metadata": {},
   "outputs": [
    {
     "name": "stdout",
     "output_type": "stream",
     "text": [
      "Number of rows and columns after removing na values: (2639, 16)\n"
     ]
    }
   ],
   "source": [
    "#remove na values\n",
    "df_numbers = df_numbers.dropna()\n",
    "print(\"Number of rows and columns after removing na values:\", df_numbers.shape)\n",
    "#save the filtered dataframe to a new excel file\n",
    "df_numbers.to_excel('../data/features_non_zero_2639.xlsx', index=False)"
   ]
  }
 ],
 "metadata": {
  "kernelspec": {
   "display_name": "myenv",
   "language": "python",
   "name": "python3"
  },
  "language_info": {
   "codemirror_mode": {
    "name": "ipython",
    "version": 3
   },
   "file_extension": ".py",
   "mimetype": "text/x-python",
   "name": "python",
   "nbconvert_exporter": "python",
   "pygments_lexer": "ipython3",
   "version": "3.12.3"
  }
 },
 "nbformat": 4,
 "nbformat_minor": 5
}
